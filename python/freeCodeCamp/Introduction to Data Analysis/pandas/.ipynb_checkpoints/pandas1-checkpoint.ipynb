{
 "cells": [
  {
   "cell_type": "code",
   "execution_count": 5,
   "id": "aeb0c739-c59a-4a26-a1ff-d26ee16d5e08",
   "metadata": {},
   "outputs": [],
   "source": [
    "#Series\n",
    "import pandas as pd\n",
    "import numpy as np"
   ]
  },
  {
   "cell_type": "code",
   "execution_count": 6,
   "id": "c6537f8f-b65d-4e90-a557-ffb8d006e543",
   "metadata": {},
   "outputs": [],
   "source": [
    "#Pandas Series as a data structure"
   ]
  },
  {
   "cell_type": "code",
   "execution_count": 7,
   "id": "0ce5c391-2143-4814-bb11-5f6438cb176c",
   "metadata": {},
   "outputs": [],
   "source": [
    "#In Millions\n",
    "#The Group of Seven g7\n",
    "g7_pop = pd.Series([35.467, 63.957, 80.940, 60.665, 127.067, 64.511, 318.523])"
   ]
  },
  {
   "cell_type": "code",
   "execution_count": 8,
   "id": "a92fefde-4189-46ed-a065-cffabbf017ff",
   "metadata": {},
   "outputs": [
    {
     "data": {
      "text/plain": [
       "0     35.467\n",
       "1     63.957\n",
       "2     80.940\n",
       "3     60.665\n",
       "4    127.067\n",
       "5     64.511\n",
       "6    318.523\n",
       "dtype: float64"
      ]
     },
     "execution_count": 8,
     "metadata": {},
     "output_type": "execute_result"
    }
   ],
   "source": [
    "g7_pop"
   ]
  },
  {
   "cell_type": "code",
   "execution_count": 9,
   "id": "71eba77e-74df-4085-ba6a-5582749b9e09",
   "metadata": {},
   "outputs": [],
   "source": [
    "g7_pop.name = 'G7 Population in Millions'"
   ]
  },
  {
   "cell_type": "code",
   "execution_count": 10,
   "id": "78d17561-dd6c-457d-b8ca-1cffed0490a3",
   "metadata": {},
   "outputs": [
    {
     "data": {
      "text/plain": [
       "0     35.467\n",
       "1     63.957\n",
       "2     80.940\n",
       "3     60.665\n",
       "4    127.067\n",
       "5     64.511\n",
       "6    318.523\n",
       "Name: G7 Population in Millions, dtype: float64"
      ]
     },
     "execution_count": 10,
     "metadata": {},
     "output_type": "execute_result"
    }
   ],
   "source": [
    "g7_pop"
   ]
  },
  {
   "cell_type": "code",
   "execution_count": 11,
   "id": "a5fb21ff-d966-4f18-b81d-192b990113dd",
   "metadata": {},
   "outputs": [
    {
     "data": {
      "text/plain": [
       "dtype('float64')"
      ]
     },
     "execution_count": 11,
     "metadata": {},
     "output_type": "execute_result"
    }
   ],
   "source": [
    "#Series are backed by numpy arrays\n",
    "g7_pop.dtype"
   ]
  },
  {
   "cell_type": "code",
   "execution_count": 12,
   "id": "77560ec5-86fd-446d-975f-6846336d6ee3",
   "metadata": {},
   "outputs": [
    {
     "data": {
      "text/plain": [
       "array([ 35.467,  63.957,  80.94 ,  60.665, 127.067,  64.511, 318.523])"
      ]
     },
     "execution_count": 12,
     "metadata": {},
     "output_type": "execute_result"
    }
   ],
   "source": [
    "g7_pop.values"
   ]
  },
  {
   "cell_type": "code",
   "execution_count": 13,
   "id": "8939d55a-3f7c-4ace-8c81-707a6ff5477c",
   "metadata": {},
   "outputs": [
    {
     "data": {
      "text/plain": [
       "numpy.ndarray"
      ]
     },
     "execution_count": 13,
     "metadata": {},
     "output_type": "execute_result"
    }
   ],
   "source": [
    "type(g7_pop.values)"
   ]
  },
  {
   "cell_type": "code",
   "execution_count": 14,
   "id": "c12599dd-bdc4-4300-b2ca-c525b10a6ce1",
   "metadata": {},
   "outputs": [
    {
     "data": {
      "text/plain": [
       "0     35.467\n",
       "1     63.957\n",
       "2     80.940\n",
       "3     60.665\n",
       "4    127.067\n",
       "5     64.511\n",
       "6    318.523\n",
       "Name: G7 Population in Millions, dtype: float64"
      ]
     },
     "execution_count": 14,
     "metadata": {},
     "output_type": "execute_result"
    }
   ],
   "source": [
    "g7_pop"
   ]
  },
  {
   "cell_type": "code",
   "execution_count": 15,
   "id": "7e6374f4-9d18-4de3-b9c9-44e0800782e3",
   "metadata": {},
   "outputs": [
    {
     "data": {
      "text/plain": [
       "35.467"
      ]
     },
     "execution_count": 15,
     "metadata": {},
     "output_type": "execute_result"
    }
   ],
   "source": [
    "g7_pop[0]"
   ]
  },
  {
   "cell_type": "code",
   "execution_count": 16,
   "id": "8135bbe5-dad3-4ddf-b9b6-294250a86709",
   "metadata": {},
   "outputs": [
    {
     "data": {
      "text/plain": [
       "63.957"
      ]
     },
     "execution_count": 16,
     "metadata": {},
     "output_type": "execute_result"
    }
   ],
   "source": [
    "g7_pop[1]"
   ]
  },
  {
   "cell_type": "code",
   "execution_count": 17,
   "id": "956548c6-e1c9-43df-8049-4368820a778f",
   "metadata": {},
   "outputs": [
    {
     "data": {
      "text/plain": [
       "RangeIndex(start=0, stop=7, step=1)"
      ]
     },
     "execution_count": 17,
     "metadata": {},
     "output_type": "execute_result"
    }
   ],
   "source": [
    "g7_pop.index"
   ]
  },
  {
   "cell_type": "code",
   "execution_count": 18,
   "id": "4006ca21-e0ae-4d33-a569-e8d566a06c7c",
   "metadata": {},
   "outputs": [],
   "source": [
    "l = ['a', 'b', 'c']"
   ]
  },
  {
   "cell_type": "code",
   "execution_count": 19,
   "id": "2722503c-c709-40f2-86a2-b215913ea354",
   "metadata": {},
   "outputs": [],
   "source": [
    "#The index can explicitly be defined just like in dictionaries\n",
    "g7_pop.index = [\n",
    "    'Canada',\n",
    "    'France',\n",
    "    'Germany',\n",
    "    'Italy',\n",
    "    'Japan',\n",
    "    'United Kingdom',\n",
    "    'United States'\n",
    "]"
   ]
  },
  {
   "cell_type": "code",
   "execution_count": 20,
   "id": "ba53ce02-d81b-4484-ac47-6659ed216975",
   "metadata": {},
   "outputs": [
    {
     "data": {
      "text/plain": [
       "Canada             35.467\n",
       "France             63.957\n",
       "Germany            80.940\n",
       "Italy              60.665\n",
       "Japan             127.067\n",
       "United Kingdom     64.511\n",
       "United States     318.523\n",
       "Name: G7 Population in Millions, dtype: float64"
      ]
     },
     "execution_count": 20,
     "metadata": {},
     "output_type": "execute_result"
    }
   ],
   "source": [
    "#Turns to more like an ordered dictionary\n",
    "g7_pop"
   ]
  },
  {
   "cell_type": "code",
   "execution_count": 21,
   "id": "eccfcbae-1fb3-4cff-a411-ce492ba7f276",
   "metadata": {},
   "outputs": [
    {
     "data": {
      "text/plain": [
       "Canada             35.467\n",
       "France             63.951\n",
       "Germany            80.940\n",
       "Italy              60.665\n",
       "Japan             127.061\n",
       "United Kingdom     64.511\n",
       "United States     318.523\n",
       "Name: G7 Population in millions, dtype: float64"
      ]
     },
     "execution_count": 21,
     "metadata": {},
     "output_type": "execute_result"
    }
   ],
   "source": [
    "pd.Series({\n",
    "    'Canada': 35.467,\n",
    "    'France': 63.951,\n",
    "    'Germany': 80.94,\n",
    "    'Italy': 60.665,\n",
    "    'Japan': 127.061,\n",
    "    'United Kingdom': 64.511,\n",
    "    'United States': 318.523\n",
    "}, name='G7 Population in millions')"
   ]
  },
  {
   "cell_type": "code",
   "execution_count": 22,
   "id": "d27f659a-06ee-4f42-b0eb-b489d87ef6ee",
   "metadata": {},
   "outputs": [
    {
     "data": {
      "text/plain": [
       "Canada             35.467\n",
       "France             63.951\n",
       "Germany            80.940\n",
       "Italy              60.665\n",
       "Japan             127.061\n",
       "United Kingdom     64.511\n",
       "United States     318.523\n",
       "Name: G7 Population in millions, dtype: float64"
      ]
     },
     "execution_count": 22,
     "metadata": {},
     "output_type": "execute_result"
    }
   ],
   "source": [
    "pd.Series(\n",
    "    [35.467, 63.951, 80.94, 60.665, 127.061, 64.511, 318.523],\n",
    "    index=['Canada', 'France', 'Germany', 'Italy', 'Japan', 'United Kingdom',\n",
    "       'United States'],\n",
    "    name='G7 Population in millions')"
   ]
  },
  {
   "cell_type": "code",
   "execution_count": 23,
   "id": "07c6d0db-6171-43df-af38-440a1bc3114f",
   "metadata": {},
   "outputs": [
    {
     "data": {
      "text/plain": [
       "France     63.957\n",
       "Germany    80.940\n",
       "Italy      60.665\n",
       "Spain         NaN\n",
       "Name: G7 Population in Millions, dtype: float64"
      ]
     },
     "execution_count": 23,
     "metadata": {},
     "output_type": "execute_result"
    }
   ],
   "source": [
    "pd.Series(g7_pop, index=['France', 'Germany', 'Italy', 'Spain'])"
   ]
  },
  {
   "cell_type": "code",
   "execution_count": 24,
   "id": "75718ad0-7915-4243-b3aa-672836a656d9",
   "metadata": {},
   "outputs": [
    {
     "data": {
      "text/plain": [
       "35.467"
      ]
     },
     "execution_count": 24,
     "metadata": {},
     "output_type": "execute_result"
    }
   ],
   "source": [
    "g7_pop['Canada']"
   ]
  },
  {
   "cell_type": "code",
   "execution_count": 25,
   "id": "92a90a55-b13f-4a33-9c6f-fe26eac2a566",
   "metadata": {},
   "outputs": [
    {
     "data": {
      "text/plain": [
       "127.067"
      ]
     },
     "execution_count": 25,
     "metadata": {},
     "output_type": "execute_result"
    }
   ],
   "source": [
    "g7_pop['Japan']"
   ]
  },
  {
   "cell_type": "code",
   "execution_count": 26,
   "id": "68ab8048-3253-415e-9153-27dd4ad17375",
   "metadata": {},
   "outputs": [
    {
     "data": {
      "text/plain": [
       "35.467"
      ]
     },
     "execution_count": 26,
     "metadata": {},
     "output_type": "execute_result"
    }
   ],
   "source": [
    "#using iloc for index positioning\n",
    "g7_pop.iloc[0]"
   ]
  },
  {
   "cell_type": "code",
   "execution_count": 27,
   "id": "c82da840-d6f7-48ff-b24e-fc2534590a89",
   "metadata": {},
   "outputs": [
    {
     "data": {
      "text/plain": [
       "318.523"
      ]
     },
     "execution_count": 27,
     "metadata": {},
     "output_type": "execute_result"
    }
   ],
   "source": [
    "g7_pop.iloc[-1]"
   ]
  },
  {
   "cell_type": "code",
   "execution_count": 28,
   "id": "f244244b-4b1a-416f-b653-7df75e308e7c",
   "metadata": {},
   "outputs": [
    {
     "data": {
      "text/plain": [
       "Italy     60.665\n",
       "France    63.957\n",
       "Name: G7 Population in Millions, dtype: float64"
      ]
     },
     "execution_count": 28,
     "metadata": {},
     "output_type": "execute_result"
    }
   ],
   "source": [
    "#Multiple indexing\n",
    "g7_pop[['Italy', 'France']]"
   ]
  },
  {
   "cell_type": "code",
   "execution_count": 32,
   "id": "da4b638d-a91c-4be7-bffb-fc555bd5cfc5",
   "metadata": {},
   "outputs": [
    {
     "data": {
      "text/plain": [
       "Canada    35.467\n",
       "France    63.957\n",
       "Name: G7 Population in Millions, dtype: float64"
      ]
     },
     "execution_count": 32,
     "metadata": {},
     "output_type": "execute_result"
    }
   ],
   "source": [
    "g7_pop.iloc[[0, 1]]"
   ]
  },
  {
   "cell_type": "code",
   "execution_count": 33,
   "id": "04b4c191-951b-4ddf-8e78-95ab29b269be",
   "metadata": {},
   "outputs": [
    {
     "data": {
      "text/plain": [
       "Canada     35.467\n",
       "France     63.957\n",
       "Germany    80.940\n",
       "Italy      60.665\n",
       "Name: G7 Population in Millions, dtype: float64"
      ]
     },
     "execution_count": 33,
     "metadata": {},
     "output_type": "execute_result"
    }
   ],
   "source": [
    "#slicing works to but the upper limited is also included in pandas\n",
    "g7_pop['Canada': 'Italy']"
   ]
  },
  {
   "cell_type": "code",
   "execution_count": 35,
   "id": "d062d41c-4d6a-42bd-a26a-b90defdb49cb",
   "metadata": {},
   "outputs": [
    {
     "data": {
      "text/plain": [
       "Canada             35.467\n",
       "France             63.957\n",
       "Germany            80.940\n",
       "Italy              60.665\n",
       "Japan             127.067\n",
       "United Kingdom     64.511\n",
       "United States     318.523\n",
       "Name: G7 Population in Millions, dtype: float64"
      ]
     },
     "execution_count": 35,
     "metadata": {},
     "output_type": "execute_result"
    }
   ],
   "source": [
    "#Boolean Series\n",
    "g7_pop"
   ]
  },
  {
   "cell_type": "code",
   "execution_count": 36,
   "id": "51d54d0f-ca8a-44ed-8f9b-2d5b529c8c82",
   "metadata": {},
   "outputs": [
    {
     "data": {
      "text/plain": [
       "Canada            False\n",
       "France            False\n",
       "Germany            True\n",
       "Italy             False\n",
       "Japan              True\n",
       "United Kingdom    False\n",
       "United States      True\n",
       "Name: G7 Population in Millions, dtype: bool"
      ]
     },
     "execution_count": 36,
     "metadata": {},
     "output_type": "execute_result"
    }
   ],
   "source": [
    "g7_pop > 70"
   ]
  },
  {
   "cell_type": "code",
   "execution_count": 37,
   "id": "0ae65631-b93b-4b72-b039-62247be2f4d7",
   "metadata": {},
   "outputs": [
    {
     "data": {
      "text/plain": [
       "Germany           80.940\n",
       "Japan            127.067\n",
       "United States    318.523\n",
       "Name: G7 Population in Millions, dtype: float64"
      ]
     },
     "execution_count": 37,
     "metadata": {},
     "output_type": "execute_result"
    }
   ],
   "source": [
    "g7_pop[g7_pop > 70]"
   ]
  },
  {
   "cell_type": "code",
   "execution_count": 38,
   "id": "5cefdca5-0b58-4cbd-b4fc-10116265f9bc",
   "metadata": {},
   "outputs": [
    {
     "data": {
      "text/plain": [
       "107.30428571428571"
      ]
     },
     "execution_count": 38,
     "metadata": {},
     "output_type": "execute_result"
    }
   ],
   "source": [
    "g7_pop.mean()"
   ]
  },
  {
   "cell_type": "code",
   "execution_count": 39,
   "id": "aab5bd87-278c-4a8c-81b9-5424ce020e65",
   "metadata": {},
   "outputs": [
    {
     "data": {
      "text/plain": [
       "Japan            127.067\n",
       "United States    318.523\n",
       "Name: G7 Population in Millions, dtype: float64"
      ]
     },
     "execution_count": 39,
     "metadata": {},
     "output_type": "execute_result"
    }
   ],
   "source": [
    "g7_pop[g7_pop > g7_pop.mean()]"
   ]
  },
  {
   "cell_type": "code",
   "execution_count": 40,
   "id": "d8760682-fcc5-4a14-a7ef-b5dfc4e102ac",
   "metadata": {},
   "outputs": [
    {
     "data": {
      "text/plain": [
       "97.24972731189584"
      ]
     },
     "execution_count": 40,
     "metadata": {},
     "output_type": "execute_result"
    }
   ],
   "source": [
    "g7_pop.std()"
   ]
  },
  {
   "cell_type": "code",
   "execution_count": 42,
   "id": "0d442501-8d03-402b-ad28-b7ebb6583650",
   "metadata": {},
   "outputs": [
    {
     "data": {
      "text/plain": [
       "France             63.957\n",
       "Germany            80.940\n",
       "Italy              60.665\n",
       "Japan             127.067\n",
       "United Kingdom     64.511\n",
       "United States     318.523\n",
       "Name: G7 Population in Millions, dtype: float64"
      ]
     },
     "execution_count": 42,
     "metadata": {},
     "output_type": "execute_result"
    }
   ],
   "source": [
    "g7_pop[(g7_pop > g7_pop.mean() - g7_pop.std() / 2) | (g7_pop > g7_pop.mean() + g7_pop.std() / 2)]"
   ]
  },
  {
   "cell_type": "code",
   "execution_count": 44,
   "id": "b28688ab-1ec2-41e5-b1fa-c879c2c9b37e",
   "metadata": {},
   "outputs": [
    {
     "data": {
      "text/plain": [
       "Canada             35.467\n",
       "France             63.957\n",
       "Germany            80.940\n",
       "Italy              60.665\n",
       "Japan             127.067\n",
       "United Kingdom     64.511\n",
       "United States     318.523\n",
       "Name: G7 Population in Millions, dtype: float64"
      ]
     },
     "execution_count": 44,
     "metadata": {},
     "output_type": "execute_result"
    }
   ],
   "source": [
    "#Operations and methods\n",
    "g7_pop"
   ]
  },
  {
   "cell_type": "code",
   "execution_count": 45,
   "id": "48cec0f6-fd79-4a05-bccc-451348668153",
   "metadata": {},
   "outputs": [
    {
     "data": {
      "text/plain": [
       "Canada             35467000.0\n",
       "France             63957000.0\n",
       "Germany            80940000.0\n",
       "Italy              60665000.0\n",
       "Japan             127067000.0\n",
       "United Kingdom     64511000.0\n",
       "United States     318523000.0\n",
       "Name: G7 Population in Millions, dtype: float64"
      ]
     },
     "execution_count": 45,
     "metadata": {},
     "output_type": "execute_result"
    }
   ],
   "source": [
    "g7_pop * 1_000_000"
   ]
  },
  {
   "cell_type": "code",
   "execution_count": 46,
   "id": "af9ed5e9-c53d-49e3-a5e3-3eb9f33fd3ba",
   "metadata": {},
   "outputs": [
    {
     "data": {
      "text/plain": [
       "<bound method Series.mean of Canada             35.467\n",
       "France             63.957\n",
       "Germany            80.940\n",
       "Italy              60.665\n",
       "Japan             127.067\n",
       "United Kingdom     64.511\n",
       "United States     318.523\n",
       "Name: G7 Population in Millions, dtype: float64>"
      ]
     },
     "execution_count": 46,
     "metadata": {},
     "output_type": "execute_result"
    }
   ],
   "source": [
    "g7_pop.mean"
   ]
  },
  {
   "cell_type": "code",
   "execution_count": 47,
   "id": "bc380236-0f17-4701-9753-144f014321ea",
   "metadata": {},
   "outputs": [
    {
     "data": {
      "text/plain": [
       "Canada            3.568603\n",
       "France            4.158211\n",
       "Germany           4.393708\n",
       "Italy             4.105367\n",
       "Japan             4.844715\n",
       "United Kingdom    4.166836\n",
       "United States     5.763695\n",
       "Name: G7 Population in Millions, dtype: float64"
      ]
     },
     "execution_count": 47,
     "metadata": {},
     "output_type": "execute_result"
    }
   ],
   "source": [
    "np.log(g7_pop)"
   ]
  },
  {
   "cell_type": "code",
   "execution_count": 48,
   "id": "7a1d0c42-3692-4244-b2bd-caf2939a9914",
   "metadata": {},
   "outputs": [
    {
     "data": {
      "text/plain": [
       "68.52066666666666"
      ]
     },
     "execution_count": 48,
     "metadata": {},
     "output_type": "execute_result"
    }
   ],
   "source": [
    "g7_pop['France': 'Italy'].mean()"
   ]
  },
  {
   "cell_type": "code",
   "execution_count": 49,
   "id": "4db6cde5-a9cd-40f5-a270-edd02073741e",
   "metadata": {},
   "outputs": [],
   "source": [
    "#Moddifying\n",
    "g7_pop['Canada'] = 40.5"
   ]
  },
  {
   "cell_type": "code",
   "execution_count": 50,
   "id": "ccce999a-da09-4eaa-8f95-54492c491909",
   "metadata": {},
   "outputs": [
    {
     "data": {
      "text/plain": [
       "Canada             40.500\n",
       "France             63.957\n",
       "Germany            80.940\n",
       "Italy              60.665\n",
       "Japan             127.067\n",
       "United Kingdom     64.511\n",
       "United States     318.523\n",
       "Name: G7 Population in Millions, dtype: float64"
      ]
     },
     "execution_count": 50,
     "metadata": {},
     "output_type": "execute_result"
    }
   ],
   "source": [
    "g7_pop"
   ]
  },
  {
   "cell_type": "code",
   "execution_count": 51,
   "id": "db0dc4ae-7754-4c1f-8ea8-e5a8547dff8c",
   "metadata": {},
   "outputs": [],
   "source": [
    "g7_pop.iloc[-1] = 500"
   ]
  },
  {
   "cell_type": "code",
   "execution_count": 52,
   "id": "031c3518-a895-466d-be7e-ce53030c82ed",
   "metadata": {},
   "outputs": [
    {
     "data": {
      "text/plain": [
       "Canada             40.500\n",
       "France             63.957\n",
       "Germany            80.940\n",
       "Italy              60.665\n",
       "Japan             127.067\n",
       "United Kingdom     64.511\n",
       "United States     500.000\n",
       "Name: G7 Population in Millions, dtype: float64"
      ]
     },
     "execution_count": 52,
     "metadata": {},
     "output_type": "execute_result"
    }
   ],
   "source": [
    "g7_pop"
   ]
  },
  {
   "cell_type": "code",
   "execution_count": null,
   "id": "2b9e8a59-ab1c-4250-97d7-1a0d0473d35e",
   "metadata": {},
   "outputs": [],
   "source": []
  },
  {
   "cell_type": "code",
   "execution_count": null,
   "id": "5c283b38-4775-4825-b376-c5db61186126",
   "metadata": {},
   "outputs": [],
   "source": []
  }
 ],
 "metadata": {
  "kernelspec": {
   "display_name": "Python 3 (ipykernel)",
   "language": "python",
   "name": "python3"
  },
  "language_info": {
   "codemirror_mode": {
    "name": "ipython",
    "version": 3
   },
   "file_extension": ".py",
   "mimetype": "text/x-python",
   "name": "python",
   "nbconvert_exporter": "python",
   "pygments_lexer": "ipython3",
   "version": "3.11.9"
  }
 },
 "nbformat": 4,
 "nbformat_minor": 5
}
