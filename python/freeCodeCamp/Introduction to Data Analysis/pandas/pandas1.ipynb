{
 "cells": [
  {
   "cell_type": "code",
   "execution_count": 2,
   "id": "aeb0c739-c59a-4a26-a1ff-d26ee16d5e08",
   "metadata": {},
   "outputs": [],
   "source": [
    "import pandas as pd\n",
    "import numpy as np"
   ]
  },
  {
   "cell_type": "code",
   "execution_count": 3,
   "id": "c6537f8f-b65d-4e90-a557-ffb8d006e543",
   "metadata": {},
   "outputs": [],
   "source": [
    "#Pandas Series as a data structure"
   ]
  },
  {
   "cell_type": "code",
   "execution_count": 42,
   "id": "0ce5c391-2143-4814-bb11-5f6438cb176c",
   "metadata": {},
   "outputs": [],
   "source": [
    "#In Millions\n",
    "#The Group of Seven g7\n",
    "g7_pop = pd.Series([35.467, 63.957, 80.940, 60.665, 127.067, 64.511, 318.523])"
   ]
  },
  {
   "cell_type": "code",
   "execution_count": 43,
   "id": "a92fefde-4189-46ed-a065-cffabbf017ff",
   "metadata": {},
   "outputs": [
    {
     "data": {
      "text/plain": [
       "0     35.467\n",
       "1     63.957\n",
       "2     80.940\n",
       "3     60.665\n",
       "4    127.067\n",
       "5     64.511\n",
       "6    318.523\n",
       "dtype: float64"
      ]
     },
     "execution_count": 43,
     "metadata": {},
     "output_type": "execute_result"
    }
   ],
   "source": [
    "g7_pop"
   ]
  },
  {
   "cell_type": "code",
   "execution_count": 44,
   "id": "71eba77e-74df-4085-ba6a-5582749b9e09",
   "metadata": {},
   "outputs": [],
   "source": [
    "g7_pop.name = 'G7 Population in Millions'"
   ]
  },
  {
   "cell_type": "code",
   "execution_count": 45,
   "id": "78d17561-dd6c-457d-b8ca-1cffed0490a3",
   "metadata": {},
   "outputs": [
    {
     "data": {
      "text/plain": [
       "0     35.467\n",
       "1     63.957\n",
       "2     80.940\n",
       "3     60.665\n",
       "4    127.067\n",
       "5     64.511\n",
       "6    318.523\n",
       "Name: G7 Population in Millions, dtype: float64"
      ]
     },
     "execution_count": 45,
     "metadata": {},
     "output_type": "execute_result"
    }
   ],
   "source": [
    "g7_pop"
   ]
  },
  {
   "cell_type": "code",
   "execution_count": 46,
   "id": "a5fb21ff-d966-4f18-b81d-192b990113dd",
   "metadata": {},
   "outputs": [
    {
     "data": {
      "text/plain": [
       "dtype('float64')"
      ]
     },
     "execution_count": 46,
     "metadata": {},
     "output_type": "execute_result"
    }
   ],
   "source": [
    "#Series are backed by numpy arrays\n",
    "g7_pop.dtype"
   ]
  },
  {
   "cell_type": "code",
   "execution_count": 47,
   "id": "77560ec5-86fd-446d-975f-6846336d6ee3",
   "metadata": {},
   "outputs": [
    {
     "data": {
      "text/plain": [
       "array([ 35.467,  63.957,  80.94 ,  60.665, 127.067,  64.511, 318.523])"
      ]
     },
     "execution_count": 47,
     "metadata": {},
     "output_type": "execute_result"
    }
   ],
   "source": [
    "g7_pop.values"
   ]
  },
  {
   "cell_type": "code",
   "execution_count": 48,
   "id": "8939d55a-3f7c-4ace-8c81-707a6ff5477c",
   "metadata": {},
   "outputs": [
    {
     "data": {
      "text/plain": [
       "numpy.ndarray"
      ]
     },
     "execution_count": 48,
     "metadata": {},
     "output_type": "execute_result"
    }
   ],
   "source": [
    "type(g7_pop.values)"
   ]
  },
  {
   "cell_type": "code",
   "execution_count": 49,
   "id": "c12599dd-bdc4-4300-b2ca-c525b10a6ce1",
   "metadata": {},
   "outputs": [
    {
     "data": {
      "text/plain": [
       "0     35.467\n",
       "1     63.957\n",
       "2     80.940\n",
       "3     60.665\n",
       "4    127.067\n",
       "5     64.511\n",
       "6    318.523\n",
       "Name: G7 Population in Millions, dtype: float64"
      ]
     },
     "execution_count": 49,
     "metadata": {},
     "output_type": "execute_result"
    }
   ],
   "source": [
    "g7_pop"
   ]
  },
  {
   "cell_type": "code",
   "execution_count": 50,
   "id": "7e6374f4-9d18-4de3-b9c9-44e0800782e3",
   "metadata": {},
   "outputs": [
    {
     "data": {
      "text/plain": [
       "35.467"
      ]
     },
     "execution_count": 50,
     "metadata": {},
     "output_type": "execute_result"
    }
   ],
   "source": [
    "g7_pop[0]"
   ]
  },
  {
   "cell_type": "code",
   "execution_count": 51,
   "id": "8135bbe5-dad3-4ddf-b9b6-294250a86709",
   "metadata": {},
   "outputs": [
    {
     "data": {
      "text/plain": [
       "63.957"
      ]
     },
     "execution_count": 51,
     "metadata": {},
     "output_type": "execute_result"
    }
   ],
   "source": [
    "g7_pop[1]"
   ]
  },
  {
   "cell_type": "code",
   "execution_count": 52,
   "id": "956548c6-e1c9-43df-8049-4368820a778f",
   "metadata": {},
   "outputs": [
    {
     "data": {
      "text/plain": [
       "RangeIndex(start=0, stop=7, step=1)"
      ]
     },
     "execution_count": 52,
     "metadata": {},
     "output_type": "execute_result"
    }
   ],
   "source": [
    "g7_pop.index"
   ]
  },
  {
   "cell_type": "code",
   "execution_count": 53,
   "id": "4006ca21-e0ae-4d33-a569-e8d566a06c7c",
   "metadata": {},
   "outputs": [],
   "source": [
    "l = ['a', 'b', 'c']"
   ]
  },
  {
   "cell_type": "code",
   "execution_count": 54,
   "id": "2722503c-c709-40f2-86a2-b215913ea354",
   "metadata": {},
   "outputs": [],
   "source": [
    "#The index can explicitly be defined just like in dictionaries\n",
    "g7_pop.index = [\n",
    "    'Canada',\n",
    "    'France',\n",
    "    'Germany',\n",
    "    'Italy',\n",
    "    'Japan',\n",
    "    'United Kingdom',\n",
    "    'United States'\n",
    "]"
   ]
  },
  {
   "cell_type": "code",
   "execution_count": 55,
   "id": "ba53ce02-d81b-4484-ac47-6659ed216975",
   "metadata": {},
   "outputs": [
    {
     "data": {
      "text/plain": [
       "Canada             35.467\n",
       "France             63.957\n",
       "Germany            80.940\n",
       "Italy              60.665\n",
       "Japan             127.067\n",
       "United Kingdom     64.511\n",
       "United States     318.523\n",
       "Name: G7 Population in Millions, dtype: float64"
      ]
     },
     "execution_count": 55,
     "metadata": {},
     "output_type": "execute_result"
    }
   ],
   "source": [
    "#Turns to more like an ordered dictionary\n",
    "g7_pop"
   ]
  },
  {
   "cell_type": "code",
   "execution_count": 56,
   "id": "eccfcbae-1fb3-4cff-a411-ce492ba7f276",
   "metadata": {},
   "outputs": [
    {
     "data": {
      "text/plain": [
       "Canada             35.467\n",
       "France             63.951\n",
       "Germany            80.940\n",
       "Italy              60.665\n",
       "Japan             127.061\n",
       "United Kingdom     64.511\n",
       "United States     318.523\n",
       "Name: G7 Population in millions, dtype: float64"
      ]
     },
     "execution_count": 56,
     "metadata": {},
     "output_type": "execute_result"
    }
   ],
   "source": [
    "pd.Series({\n",
    "    'Canada': 35.467,\n",
    "    'France': 63.951,\n",
    "    'Germany': 80.94,\n",
    "    'Italy': 60.665,\n",
    "    'Japan': 127.061,\n",
    "    'United Kingdom': 64.511,\n",
    "    'United States': 318.523\n",
    "}, name='G7 Population in millions')"
   ]
  },
  {
   "cell_type": "code",
   "execution_count": 57,
   "id": "d27f659a-06ee-4f42-b0eb-b489d87ef6ee",
   "metadata": {},
   "outputs": [
    {
     "data": {
      "text/plain": [
       "Canada             35.467\n",
       "France             63.951\n",
       "Germany            80.940\n",
       "Italy              60.665\n",
       "Japan             127.061\n",
       "United Kingdom     64.511\n",
       "United States     318.523\n",
       "Name: G7 Population in millions, dtype: float64"
      ]
     },
     "execution_count": 57,
     "metadata": {},
     "output_type": "execute_result"
    }
   ],
   "source": [
    "pd.Series(\n",
    "    [35.467, 63.951, 80.94, 60.665, 127.061, 64.511, 318.523],\n",
    "    index=['Canada', 'France', 'Germany', 'Italy', 'Japan', 'United Kingdom',\n",
    "       'United States'],\n",
    "    name='G7 Population in millions')"
   ]
  },
  {
   "cell_type": "code",
   "execution_count": 58,
   "id": "07c6d0db-6171-43df-af38-440a1bc3114f",
   "metadata": {},
   "outputs": [
    {
     "data": {
      "text/plain": [
       "France     63.957\n",
       "Germany    80.940\n",
       "Italy      60.665\n",
       "Spain         NaN\n",
       "Name: G7 Population in Millions, dtype: float64"
      ]
     },
     "execution_count": 58,
     "metadata": {},
     "output_type": "execute_result"
    }
   ],
   "source": [
    "pd.Series(g7_pop, index=['France', 'Germany', 'Italy', 'Spain'])"
   ]
  },
  {
   "cell_type": "code",
   "execution_count": 59,
   "id": "75718ad0-7915-4243-b3aa-672836a656d9",
   "metadata": {},
   "outputs": [
    {
     "data": {
      "text/plain": [
       "35.467"
      ]
     },
     "execution_count": 59,
     "metadata": {},
     "output_type": "execute_result"
    }
   ],
   "source": [
    "g7_pop['Canada']"
   ]
  },
  {
   "cell_type": "code",
   "execution_count": null,
   "id": "92a90a55-b13f-4a33-9c6f-fe26eac2a566",
   "metadata": {},
   "outputs": [],
   "source": []
  },
  {
   "cell_type": "code",
   "execution_count": null,
   "id": "68ab8048-3253-415e-9153-27dd4ad17375",
   "metadata": {},
   "outputs": [],
   "source": []
  },
  {
   "cell_type": "code",
   "execution_count": null,
   "id": "c82da840-d6f7-48ff-b24e-fc2534590a89",
   "metadata": {},
   "outputs": [],
   "source": []
  },
  {
   "cell_type": "code",
   "execution_count": null,
   "id": "f244244b-4b1a-416f-b653-7df75e308e7c",
   "metadata": {},
   "outputs": [],
   "source": []
  },
  {
   "cell_type": "code",
   "execution_count": null,
   "id": "da4b638d-a91c-4be7-bffb-fc555bd5cfc5",
   "metadata": {},
   "outputs": [],
   "source": []
  }
 ],
 "metadata": {
  "kernelspec": {
   "display_name": "Python 3 (ipykernel)",
   "language": "python",
   "name": "python3"
  },
  "language_info": {
   "codemirror_mode": {
    "name": "ipython",
    "version": 3
   },
   "file_extension": ".py",
   "mimetype": "text/x-python",
   "name": "python",
   "nbconvert_exporter": "python",
   "pygments_lexer": "ipython3",
   "version": "3.11.9"
  }
 },
 "nbformat": 4,
 "nbformat_minor": 5
}
