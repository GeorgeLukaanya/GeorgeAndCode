{
 "cells": [
  {
   "cell_type": "code",
   "execution_count": 5,
   "id": "4ec353ff-660f-40c7-8d49-a52c2b217328",
   "metadata": {},
   "outputs": [
    {
     "name": "stdout",
     "output_type": "stream",
     "text": [
      "Setup Complete\n"
     ]
    }
   ],
   "source": [
    "import pandas as pd\n",
    "pd.plotting.register_matplotlib_converters()\n",
    "import matplotlib.pyplot as plt\n",
    "%matplotlib inline\n",
    "import seaborn as sns\n",
    "\n",
    "### Set up code checking (if required)\n",
    "#from learntools.core import binder\n",
    "#binder.bind(globals())\n",
    "#from learntools.data_viz_to_coder.ex1 import *\n",
    "###\n",
    "\n",
    "# Read the CSV file directly (replace 'path/to/fifa.csv' with the actual path if needed)\n",
    "df = pd.read_csv('fifa.csv')  # Use the actual path to the CSV file here\n",
    "\n",
    "print(\"Setup Complete\")\n"
   ]
  },
  {
   "cell_type": "code",
   "execution_count": 3,
   "id": "5f9928ad-95d7-4b5e-be67-9a4538b66ada",
   "metadata": {},
   "outputs": [
    {
     "name": "stdout",
     "output_type": "stream",
     "text": [
      "Requirement already satisfied: learntools in /home/ltgwgeorge/myenv/lib/python3.12/site-packages (0.0.20)\n",
      "Requirement already satisfied: numpy in /home/ltgwgeorge/myenv/lib/python3.12/site-packages (from learntools) (2.1.2)\n"
     ]
    }
   ],
   "source": [
    "!pip install learntools\n",
    "\n"
   ]
  },
  {
   "cell_type": "code",
   "execution_count": null,
   "id": "6722c207-eedf-487a-b03c-9eaf4843ec7d",
   "metadata": {},
   "outputs": [],
   "source": []
  }
 ],
 "metadata": {
  "kernelspec": {
   "display_name": "Python 3 (ipykernel)",
   "language": "python",
   "name": "python3"
  },
  "language_info": {
   "codemirror_mode": {
    "name": "ipython",
    "version": 3
   },
   "file_extension": ".py",
   "mimetype": "text/x-python",
   "name": "python",
   "nbconvert_exporter": "python",
   "pygments_lexer": "ipython3",
   "version": "3.12.6"
  }
 },
 "nbformat": 4,
 "nbformat_minor": 5
}
